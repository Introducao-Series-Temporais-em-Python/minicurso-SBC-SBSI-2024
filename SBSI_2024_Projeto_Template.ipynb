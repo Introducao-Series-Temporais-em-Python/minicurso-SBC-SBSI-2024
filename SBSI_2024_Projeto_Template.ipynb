{
  "nbformat": 4,
  "nbformat_minor": 0,
  "metadata": {
    "colab": {
      "provenance": []
    },
    "kernelspec": {
      "name": "python3",
      "display_name": "Python 3"
    },
    "language_info": {
      "name": "python"
    }
  },
  "cells": [
    {
      "cell_type": "markdown",
      "source": [
        "<img src='https://github.com/Rogerio-mack/work/blob/main/figuras/logo_sbc.png?raw=true' width=250, align=\"right\">"
      ],
      "metadata": {
        "id": "ij6H_0wcr1ro"
      }
    },
    {
      "cell_type": "markdown",
      "source": [
        "# **Projeto Séries Temporais**\n",
        "## <Coloque aqui o Título da Análise>\n",
        "\n",
        "<br>\n",
        "\n",
        "Entrega até 26.05 para avaliação e inclusão no BookSite."
      ],
      "metadata": {
        "id": "egMY3jx-rhtd"
      }
    },
    {
      "cell_type": "code",
      "metadata": {
        "id": "rYx9D4GZA5o9",
        "cellView": "form"
      },
      "source": [
        "#@title **Identificação do Aluno ou Alunos**\n",
        "\n",
        "#@markdown Nomes completos, e-mail, filiação:\n",
        "Aluno1 = 'Adriana Fujita, ana@gmail.com, FEA-USP' #@param {type:\"string\"}\n",
        "Aluno2 = 'Daniel Henrique, danh@unicamp.br, EE-Unicamp' #@param {type:\"string\"}\n",
        "Aluno3 = 'None' #@param {type:\"string\"}\n",
        "Aluno4 = 'None' #@param {type:\"string\"}\n",
        "\n",
        "\n",
        "\n",
        "\n"
      ],
      "execution_count": null,
      "outputs": []
    },
    {
      "cell_type": "markdown",
      "source": [
        "# **Resumo (*Abstract*)**\n",
        "\n",
        "Apresente um parágrafo um resumo do seu trabalho."
      ],
      "metadata": {
        "id": "JlCIc2YooBW7"
      }
    },
    {
      "cell_type": "markdown",
      "source": [
        "# **Introdução**\n",
        "\n",
        "Faça uma breve introdução do seu trabalho. Conceitue os pontos relevantes do seu  problema e, se for o caso, das técnicas de análise empregadas. Discuta a relevância, atualidade, limitações das análises existentes e o impacto que  sua análise pode trazer."
      ],
      "metadata": {
        "id": "sWIVEv32I6Sz"
      }
    },
    {
      "cell_type": "markdown",
      "metadata": {
        "id": "xGFJyOm1Kdtd"
      },
      "source": [
        "# **Descrição e origem dos dados**\n",
        "\n",
        "Descreva sumariamente a fonte e os dados empregados.\n",
        "\n",
        "\n",
        "\n",
        "\n",
        "\n",
        "\n"
      ]
    },
    {
      "cell_type": "code",
      "source": [
        "# seu código"
      ],
      "metadata": {
        "id": "zVM5mbPaLVwr"
      },
      "execution_count": null,
      "outputs": []
    },
    {
      "cell_type": "markdown",
      "metadata": {
        "id": "UHFq7nEmK-yF"
      },
      "source": [
        "# **Aquisição e Preparação dos dados**\n",
        "\n",
        "Faça aqui a aquisição dos dados, justificando e incluindo aqui eventuais reduções, transformações etc.\n",
        "\n",
        "\n",
        "\n",
        "\n",
        "\n"
      ]
    },
    {
      "cell_type": "code",
      "source": [
        "# seu código"
      ],
      "metadata": {
        "id": "G_nUqM5VLccz"
      },
      "execution_count": null,
      "outputs": []
    },
    {
      "cell_type": "markdown",
      "source": [
        "# **Análise Exploratória**\n",
        "\n",
        "Faça uma pequena análise exploratória dos dados com os pontos mais importantes:\n",
        "\n",
        "1. Frequência e Ausência dos dados\n",
        "2. Aspecto geral da série e pontos de atenção (tendências, ciclos, impactos)\n",
        "3. Qualidade dos dados e dados ausentes\n",
        "4. Sazonalidades"
      ],
      "metadata": {
        "id": "FyFHbT8vygVp"
      }
    },
    {
      "cell_type": "markdown",
      "source": [
        "# **Modelos de Previsão**\n",
        "\n",
        "Aplique um ou mais modelos de previsão justificando os parâmetros e métodos empregados, e comparando seus resultados."
      ],
      "metadata": {
        "id": "fwPLLvMRWbFl"
      }
    },
    {
      "cell_type": "markdown",
      "source": [
        "# **Conclusão**\n",
        "\n",
        "Apresente aqui a conclusão da sua análise e possíveis pontos de melhoria."
      ],
      "metadata": {
        "id": "Y4FSBfqjWvrF"
      }
    },
    {
      "cell_type": "code",
      "metadata": {
        "id": "BluFtfHuCGzm",
        "cellView": "form"
      },
      "source": [
        "#@markdown\n",
        "#@title **Avaliação**\n",
        "CorretoCompleto = 10 #@param {type:\"slider\", min:0, max:10, step:1}\n",
        "Relevancia = 9 #@param {type:\"slider\", min:0, max:10, step:1}\n",
        "Tecnicas = 10 #@param {type:\"slider\", min:0, max:10, step:1}\n",
        "Apresentacao = 5 #@param {type:\"slider\", min:0, max:10, step:1}\n",
        "Conclusao = 3 #@param {type:\"slider\", min:0, max:10, step:1}\n",
        "\n",
        "\n",
        "\n"
      ],
      "execution_count": 1,
      "outputs": []
    },
    {
      "cell_type": "code",
      "metadata": {
        "colab": {
          "base_uri": "https://localhost:8080/"
        },
        "id": "2Gqw7hUZHyle",
        "cellView": "form",
        "outputId": "dfe391ed-b177-44ed-99f0-73bf6aa26191"
      },
      "source": [
        "#@markdown # **Nota Final**\n",
        "Nota1 = CorretoCompleto + Relevancia + Tecnicas + Apresentacao + Conclusao\n",
        "nota = Nota1/5\n",
        "\n",
        "print(f'Nota final do trabalho {nota :.1f}')\n",
        "\n",
        "import numpy as np\n",
        "import pandas as pd\n",
        "\n"
      ],
      "execution_count": 2,
      "outputs": [
        {
          "output_type": "stream",
          "name": "stdout",
          "text": [
            "Nota final do trabalho 7.4\n"
          ]
        }
      ]
    }
  ]
}