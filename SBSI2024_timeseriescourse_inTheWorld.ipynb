{
  "nbformat": 4,
  "nbformat_minor": 0,
  "metadata": {
    "colab": {
      "provenance": [],
      "authorship_tag": "ABX9TyNJ3uU30fUt8QTXVDKSesrY",
      "include_colab_link": true
    },
    "kernelspec": {
      "name": "python3",
      "display_name": "Python 3"
    },
    "language_info": {
      "name": "python"
    }
  },
  "cells": [
    {
      "cell_type": "markdown",
      "metadata": {
        "id": "view-in-github",
        "colab_type": "text"
      },
      "source": [
        "<a href=\"https://colab.research.google.com/github/Introducao-Series-Temporais-em-Python/minicurso-SBC-SBSI-2024/blob/main/SBSI2024_timeseriescourse_inTheWorld.ipynb\" target=\"_parent\"><img src=\"https://colab.research.google.com/assets/colab-badge.svg\" alt=\"Open In Colab\"/></a>"
      ]
    },
    {
      "cell_type": "markdown",
      "source": [
        "<img src='https://github.com/Rogerio-mack/work/blob/main/figuras/logo_sbc.png?raw=true' width=250, align=\"right\">"
      ],
      "metadata": {
        "id": "dIq2m4sFap0c"
      }
    },
    {
      "cell_type": "markdown",
      "source": [
        "\n",
        "# Time Series Forecasting, **WebOfScience** World\n",
        "\n",
        "> `Time Series Forecasting`\n",
        "\n",
        "<img src='https://github.com/Introducao-Series-Temporais-em-Python/minicurso-SBC-SBSI-2024/blob/main/images/webofscience_by_years.jpg?raw=true' width=450, align=\"left\">\n",
        "\n",
        "\n",
        "\n",
        "<img src='https://github.com/Introducao-Series-Temporais-em-Python/minicurso-SBC-SBSI-2024/blob/main/images/webofscience_tree_map.jpg?raw=true' width=450, align=\"right\">\n",
        "\n",
        "\n"
      ],
      "metadata": {
        "id": "EA0x88Ssa1qS"
      }
    },
    {
      "cell_type": "markdown",
      "source": [
        "\n",
        "# Time Series Forecasting, **WebOfScience** Brazil\n",
        "\n",
        "> `Time Series Forecasting`\n",
        "\n",
        "<img src='https://github.com/Introducao-Series-Temporais-em-Python/minicurso-SBC-SBSI-2024/blob/main/images/webofscience_by_years_Brazil.jpg?raw=true' width=450, align=\"left\">\n",
        "\n",
        "<img src='https://github.com/Introducao-Series-Temporais-em-Python/minicurso-SBC-SBSI-2024/blob/main/images/webofscience_tree_map_Brasil.jpg?raw=true' width=450, align=\"right\">"
      ],
      "metadata": {
        "id": "5ES-PihDbqe0"
      }
    },
    {
      "cell_type": "markdown",
      "source": [
        "#**Time Series Forecasting Papers**\n",
        "\n",
        "\n",
        "\n",
        "Tseng, F., Yu, H., & Tzeng, G. (2002). **Combining neural network model with seasonal time series ARIMA model.** Technological Forecasting and Social Change, 69, 71-87. https://doi.org/10.1016/S0040-1625(00)00113-X.\n",
        "\n",
        "328 citations\n",
        "\n",
        "2002\n",
        "\n",
        ", S., & Lee, M. (2011). **Forecasting of Tourist Arrivals Using Subset, Multiplicative or Additive Seasonal ARIMA Model**. Mathematika, 27, 169-182. https://doi.org/10.11113/MATEMATIKA.V27.N.306.\n",
        "\n",
        "11 citations\n",
        "\n",
        "2011\n",
        "\n",
        "Sirisha, U., Belavagi, M., & Attigeri, G. (2022). **Profit Prediction Using ARIMA, SARIMA and LSTM Models in Time Series Forecasting: A Comparison.** IEEE Access, 10, 124715-124727. https://doi.org/10.1109/ACCESS.2022.3224938.\n",
        "\n",
        "14 citations\n",
        "\n",
        "2022\n",
        "\n",
        "Dastorani, M., Mirzavand, M., Dastorani, M., & Sadatinejad, S. (2016). **Comparative study among different time series models applied to monthly rainfall forecasting in semi-arid climate condition**. Natural Hazards, 81, 1811-1827. https://doi.org/10.1007/s11069-016-2163-x.\n",
        "\n",
        "32 citations\n",
        "\n",
        "2016\n",
        "\n",
        "Awino, S., Afullo, T., Mosalaosi, M., & Akuon, P. (2018). **Time Series Analysis of Impulsive Noise in Power Line Communication (PLC) Networks**. SAIEE Africa Research Journal. https://doi.org/10.23919/SAIEE.2018.8538337.\n",
        "\n",
        "5 citations\n",
        "\n",
        "2018\n",
        "\n",
        "Pramanik, A., Sultana, S., & Rahman, M. (2022). **Time Series Analysis and Forecasting of Monkeypox Disease Using ARIMA and SARIMA Model**. 2022 13th International Conference on Computing Communication and Networking Technologies (ICCCNT), 1-7. https://doi.org/10.1109/ICCCNT54827.2022.9984345.\n",
        "\n",
        "3 citations\n",
        "\n",
        "2022\n",
        "\n",
        "Kajuru, J., Abdulkarim, K., & Muhammed, M. (2019). **Forecasting Performance of Arima and Sarima Models on Monthly Average Temperature of Zaria, Nigeria**. ATBU Journal of Science, Technology and Education, 7, 205-212.\n",
        "\n",
        "3 citations\n",
        "\n",
        "2019\n",
        "\n",
        "Katoch, R., & Sidhu, A. (2021). **An Application of ARIMA Model to Forecast the Dynamics of COVID-19 Epidemic in India.** Global Business Review, 0(0). https://doi.org/10.1177/0972150920988653\n",
        "\n",
        "? citations\n",
        "\n",
        "2021\n",
        "\n",
        "Alsharif MH, Younes MK, Kim J. **Time Series ARIMA Model for Prediction of Daily and Monthly Average Global Solar Radiation: The Case Study of Seoul, South Korea.** Symmetry. 2019; 11(2):240. https://doi.org/10.3390/sym11020240\n",
        "\n",
        "? citations\n",
        "\n",
        "2019\n",
        "\n",
        "Bhangu, K., Sandhu, J., & Sapra, L. (2021). **Time series analysis of COVID-19 cases. World Journal of Engineering.** https://doi.org/10.1108/WJE-09-2020-0431.\n",
        "\n",
        "9 citations\n",
        "\n",
        "2021\n",
        "\n",
        "Xie, L. (2017). **Time Series Analysis and Prediction on Cancer Incidence Rates.** , 2. https://doi.org/10.24262/JMD.2.3.17030.\n",
        "\n",
        "10 citations\n",
        "\n",
        "2017"
      ],
      "metadata": {
        "id": "KtdqNGl7GqKQ"
      }
    }
  ]
}